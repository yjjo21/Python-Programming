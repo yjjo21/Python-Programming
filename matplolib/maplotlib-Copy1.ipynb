{
 "cells": [
  {
   "cell_type": "code",
   "execution_count": 1,
   "metadata": {},
   "outputs": [
    {
     "name": "stdout",
     "output_type": "stream",
     "text": [
      "Requirement already satisfied: pandas_datareader in c:\\users\\admin\\anaconda3\\lib\\site-packages (0.8.1)\n",
      "Requirement already satisfied: lxml in c:\\users\\admin\\anaconda3\\lib\\site-packages (from pandas_datareader) (4.5.0)\n",
      "Requirement already satisfied: pandas>=0.21 in c:\\users\\admin\\anaconda3\\lib\\site-packages (from pandas_datareader) (1.0.1)\n",
      "Requirement already satisfied: requests>=2.3.0 in c:\\users\\admin\\anaconda3\\lib\\site-packages (from pandas_datareader) (2.22.0)\n",
      "Requirement already satisfied: python-dateutil>=2.6.1 in c:\\users\\admin\\anaconda3\\lib\\site-packages (from pandas>=0.21->pandas_datareader) (2.8.1)\n",
      "Requirement already satisfied: pytz>=2017.2 in c:\\users\\admin\\anaconda3\\lib\\site-packages (from pandas>=0.21->pandas_datareader) (2019.3)\n",
      "Requirement already satisfied: numpy>=1.13.3 in c:\\users\\admin\\anaconda3\\lib\\site-packages (from pandas>=0.21->pandas_datareader) (1.18.1)\n",
      "Requirement already satisfied: certifi>=2017.4.17 in c:\\users\\admin\\anaconda3\\lib\\site-packages (from requests>=2.3.0->pandas_datareader) (2019.11.28)\n",
      "Requirement already satisfied: urllib3!=1.25.0,!=1.25.1,<1.26,>=1.21.1 in c:\\users\\admin\\anaconda3\\lib\\site-packages (from requests>=2.3.0->pandas_datareader) (1.25.8)\n",
      "Requirement already satisfied: chardet<3.1.0,>=3.0.2 in c:\\users\\admin\\anaconda3\\lib\\site-packages (from requests>=2.3.0->pandas_datareader) (3.0.4)\n",
      "Requirement already satisfied: idna<2.9,>=2.5 in c:\\users\\admin\\anaconda3\\lib\\site-packages (from requests>=2.3.0->pandas_datareader) (2.8)\n",
      "Requirement already satisfied: six>=1.5 in c:\\users\\admin\\anaconda3\\lib\\site-packages (from python-dateutil>=2.6.1->pandas>=0.21->pandas_datareader) (1.14.0)\n"
     ]
    }
   ],
   "source": [
    "!pip install pandas_datareader"
   ]
  },
  {
   "cell_type": "code",
   "execution_count": 2,
   "metadata": {},
   "outputs": [
    {
     "name": "stderr",
     "output_type": "stream",
     "text": [
      "C:\\Users\\Admin\\anaconda3\\lib\\site-packages\\pandas_datareader\\compat\\__init__.py:7: FutureWarning: pandas.util.testing is deprecated. Use the functions in the public API at pandas.testing instead.\n",
      "  from pandas.util.testing import assert_frame_equal\n"
     ]
    }
   ],
   "source": [
    "import os\n",
    "from datetime import datetime\n",
    "from pandas_datareader import data, wb"
   ]
  },
  {
   "cell_type": "code",
   "execution_count": 3,
   "metadata": {},
   "outputs": [],
   "source": [
    "import numpy as np\n",
    "import pandas as pd\n",
    "import matplotlib.pyplot as plt"
   ]
  },
  {
   "cell_type": "markdown",
   "metadata": {},
   "source": [
    "### 코스피 가져오기 "
   ]
  },
  {
   "cell_type": "code",
   "execution_count": 4,
   "metadata": {},
   "outputs": [
    {
     "data": {
      "text/html": [
       "<div>\n",
       "<style scoped>\n",
       "    .dataframe tbody tr th:only-of-type {\n",
       "        vertical-align: middle;\n",
       "    }\n",
       "\n",
       "    .dataframe tbody tr th {\n",
       "        vertical-align: top;\n",
       "    }\n",
       "\n",
       "    .dataframe thead th {\n",
       "        text-align: right;\n",
       "    }\n",
       "</style>\n",
       "<table border=\"1\" class=\"dataframe\">\n",
       "  <thead>\n",
       "    <tr style=\"text-align: right;\">\n",
       "      <th></th>\n",
       "      <th>High</th>\n",
       "      <th>Low</th>\n",
       "      <th>Open</th>\n",
       "      <th>Close</th>\n",
       "      <th>Volume</th>\n",
       "      <th>Adj Close</th>\n",
       "    </tr>\n",
       "    <tr>\n",
       "      <th>Date</th>\n",
       "      <th></th>\n",
       "      <th></th>\n",
       "      <th></th>\n",
       "      <th></th>\n",
       "      <th></th>\n",
       "      <th></th>\n",
       "    </tr>\n",
       "  </thead>\n",
       "  <tbody>\n",
       "    <tr>\n",
       "      <th>2000-01-04</th>\n",
       "      <td>1066.180054</td>\n",
       "      <td>1016.590027</td>\n",
       "      <td>1028.329956</td>\n",
       "      <td>1059.040039</td>\n",
       "      <td>19589800.0</td>\n",
       "      <td>1059.040039</td>\n",
       "    </tr>\n",
       "    <tr>\n",
       "      <th>2000-01-05</th>\n",
       "      <td>1026.520020</td>\n",
       "      <td>984.049988</td>\n",
       "      <td>1006.869995</td>\n",
       "      <td>986.309998</td>\n",
       "      <td>25769600.0</td>\n",
       "      <td>986.309998</td>\n",
       "    </tr>\n",
       "    <tr>\n",
       "      <th>2000-01-06</th>\n",
       "      <td>1014.900024</td>\n",
       "      <td>953.500000</td>\n",
       "      <td>1013.950012</td>\n",
       "      <td>960.789978</td>\n",
       "      <td>20352300.0</td>\n",
       "      <td>960.789978</td>\n",
       "    </tr>\n",
       "    <tr>\n",
       "      <th>2000-01-07</th>\n",
       "      <td>970.159973</td>\n",
       "      <td>930.840027</td>\n",
       "      <td>949.169983</td>\n",
       "      <td>948.650024</td>\n",
       "      <td>21566400.0</td>\n",
       "      <td>948.650024</td>\n",
       "    </tr>\n",
       "    <tr>\n",
       "      <th>2000-01-10</th>\n",
       "      <td>994.940002</td>\n",
       "      <td>974.820007</td>\n",
       "      <td>979.669983</td>\n",
       "      <td>987.239990</td>\n",
       "      <td>24017500.0</td>\n",
       "      <td>987.239990</td>\n",
       "    </tr>\n",
       "  </tbody>\n",
       "</table>\n",
       "</div>"
      ],
      "text/plain": [
       "                   High          Low         Open        Close      Volume  \\\n",
       "Date                                                                         \n",
       "2000-01-04  1066.180054  1016.590027  1028.329956  1059.040039  19589800.0   \n",
       "2000-01-05  1026.520020   984.049988  1006.869995   986.309998  25769600.0   \n",
       "2000-01-06  1014.900024   953.500000  1013.950012   960.789978  20352300.0   \n",
       "2000-01-07   970.159973   930.840027   949.169983   948.650024  21566400.0   \n",
       "2000-01-10   994.940002   974.820007   979.669983   987.239990  24017500.0   \n",
       "\n",
       "              Adj Close  \n",
       "Date                     \n",
       "2000-01-04  1059.040039  \n",
       "2000-01-05   986.309998  \n",
       "2000-01-06   960.789978  \n",
       "2000-01-07   948.650024  \n",
       "2000-01-10   987.239990  "
      ]
     },
     "execution_count": 4,
     "metadata": {},
     "output_type": "execute_result"
    }
   ],
   "source": [
    "DF = data.DataReader('^KS11', 'yahoo', '2000-01-01')\n",
    "DF.head()"
   ]
  },
  {
   "cell_type": "code",
   "execution_count": 5,
   "metadata": {},
   "outputs": [
    {
     "data": {
      "text/plain": [
       "High         float64\n",
       "Low          float64\n",
       "Open         float64\n",
       "Close        float64\n",
       "Volume       float64\n",
       "Adj Close    float64\n",
       "dtype: object"
      ]
     },
     "execution_count": 5,
     "metadata": {},
     "output_type": "execute_result"
    }
   ],
   "source": [
    "DF.dtypes"
   ]
  },
  {
   "cell_type": "code",
   "execution_count": 7,
   "metadata": {},
   "outputs": [],
   "source": [
    "plt.rcParams['figure.figsize'] = (13, 5)\n",
    "plt.rcParams['lines.linewidth'] = 0.7\n",
    "plt.rcParams['lines.color'] = 'r'\n",
    "plt.rcParams['axes.grid'] = True "
   ]
  },
  {
   "cell_type": "code",
   "execution_count": 8,
   "metadata": {},
   "outputs": [
    {
     "data": {
      "image/png": "[encoded data removed]",
      "text/plain": [
       "<Figure size 936x360 with 1 Axes>"
      ]
     },
     "metadata": {
      "needs_background": "light"
     },
     "output_type": "display_data"
    }
   ],
   "source": [
    "plt.plot(DF['Close'] , color = (0/256,50/256,0/256))\n",
    "plt.show()"
   ]
  },
  {
   "cell_type": "markdown",
   "metadata": {},
   "source": [
    "매번 plot 값을 지정해주지 않아도 된다."
   ]
  },
  {
   "cell_type": "code",
   "execution_count": 10,
   "metadata": {},
   "outputs": [
    {
     "data": {
      "text/html": [
       "<div>\n",
       "<style scoped>\n",
       "    .dataframe tbody tr th:only-of-type {\n",
       "        vertical-align: middle;\n",
       "    }\n",
       "\n",
       "    .dataframe tbody tr th {\n",
       "        vertical-align: top;\n",
       "    }\n",
       "\n",
       "    .dataframe thead th {\n",
       "        text-align: right;\n",
       "    }\n",
       "</style>\n",
       "<table border=\"1\" class=\"dataframe\">\n",
       "  <thead>\n",
       "    <tr style=\"text-align: right;\">\n",
       "      <th></th>\n",
       "      <th>High</th>\n",
       "      <th>Low</th>\n",
       "      <th>Open</th>\n",
       "      <th>Close</th>\n",
       "      <th>Volume</th>\n",
       "      <th>Adj Close</th>\n",
       "    </tr>\n",
       "    <tr>\n",
       "      <th>Date</th>\n",
       "      <th></th>\n",
       "      <th></th>\n",
       "      <th></th>\n",
       "      <th></th>\n",
       "      <th></th>\n",
       "      <th></th>\n",
       "    </tr>\n",
       "  </thead>\n",
       "  <tbody>\n",
       "    <tr>\n",
       "      <th>2020-08-06</th>\n",
       "      <td>2352.479980</td>\n",
       "      <td>2322.639893</td>\n",
       "      <td>2322.639893</td>\n",
       "      <td>2342.610107</td>\n",
       "      <td>797000.0</td>\n",
       "      <td>2342.610107</td>\n",
       "    </tr>\n",
       "    <tr>\n",
       "      <th>2020-08-07</th>\n",
       "      <td>2362.239990</td>\n",
       "      <td>2333.620117</td>\n",
       "      <td>2349.250000</td>\n",
       "      <td>2351.669922</td>\n",
       "      <td>812600.0</td>\n",
       "      <td>2351.669922</td>\n",
       "    </tr>\n",
       "    <tr>\n",
       "      <th>2020-08-10</th>\n",
       "      <td>2390.510010</td>\n",
       "      <td>2349.330078</td>\n",
       "      <td>2353.919922</td>\n",
       "      <td>2386.379883</td>\n",
       "      <td>784400.0</td>\n",
       "      <td>2386.379883</td>\n",
       "    </tr>\n",
       "    <tr>\n",
       "      <th>2020-08-11</th>\n",
       "      <td>2429.360107</td>\n",
       "      <td>2396.110107</td>\n",
       "      <td>2396.110107</td>\n",
       "      <td>2418.669922</td>\n",
       "      <td>843400.0</td>\n",
       "      <td>2418.669922</td>\n",
       "    </tr>\n",
       "    <tr>\n",
       "      <th>2020-08-12</th>\n",
       "      <td>2425.020020</td>\n",
       "      <td>2414.610107</td>\n",
       "      <td>2414.780029</td>\n",
       "      <td>2421.260010</td>\n",
       "      <td>86487.0</td>\n",
       "      <td>2421.260010</td>\n",
       "    </tr>\n",
       "  </tbody>\n",
       "</table>\n",
       "</div>"
      ],
      "text/plain": [
       "                   High          Low         Open        Close    Volume  \\\n",
       "Date                                                                       \n",
       "2020-08-06  2352.479980  2322.639893  2322.639893  2342.610107  797000.0   \n",
       "2020-08-07  2362.239990  2333.620117  2349.250000  2351.669922  812600.0   \n",
       "2020-08-10  2390.510010  2349.330078  2353.919922  2386.379883  784400.0   \n",
       "2020-08-11  2429.360107  2396.110107  2396.110107  2418.669922  843400.0   \n",
       "2020-08-12  2425.020020  2414.610107  2414.780029  2421.260010   86487.0   \n",
       "\n",
       "              Adj Close  \n",
       "Date                     \n",
       "2020-08-06  2342.610107  \n",
       "2020-08-07  2351.669922  \n",
       "2020-08-10  2386.379883  \n",
       "2020-08-11  2418.669922  \n",
       "2020-08-12  2421.260010  "
      ]
     },
     "execution_count": 10,
     "metadata": {},
     "output_type": "execute_result"
    }
   ],
   "source": [
    "DF.tail()"
   ]
  },
  {
   "cell_type": "code",
   "execution_count": 11,
   "metadata": {},
   "outputs": [],
   "source": [
    "DF.reset_index(inplace = True)"
   ]
  },
  {
   "cell_type": "code",
   "execution_count": 12,
   "metadata": {},
   "outputs": [
    {
     "data": {
      "text/html": [
       "<div>\n",
       "<style scoped>\n",
       "    .dataframe tbody tr th:only-of-type {\n",
       "        vertical-align: middle;\n",
       "    }\n",
       "\n",
       "    .dataframe tbody tr th {\n",
       "        vertical-align: top;\n",
       "    }\n",
       "\n",
       "    .dataframe thead th {\n",
       "        text-align: right;\n",
       "    }\n",
       "</style>\n",
       "<table border=\"1\" class=\"dataframe\">\n",
       "  <thead>\n",
       "    <tr style=\"text-align: right;\">\n",
       "      <th></th>\n",
       "      <th>Date</th>\n",
       "      <th>High</th>\n",
       "      <th>Low</th>\n",
       "      <th>Open</th>\n",
       "      <th>Close</th>\n",
       "      <th>Volume</th>\n",
       "      <th>Adj Close</th>\n",
       "    </tr>\n",
       "  </thead>\n",
       "  <tbody>\n",
       "    <tr>\n",
       "      <th>5070</th>\n",
       "      <td>2020-08-06</td>\n",
       "      <td>2352.479980</td>\n",
       "      <td>2322.639893</td>\n",
       "      <td>2322.639893</td>\n",
       "      <td>2342.610107</td>\n",
       "      <td>797000.0</td>\n",
       "      <td>2342.610107</td>\n",
       "    </tr>\n",
       "    <tr>\n",
       "      <th>5071</th>\n",
       "      <td>2020-08-07</td>\n",
       "      <td>2362.239990</td>\n",
       "      <td>2333.620117</td>\n",
       "      <td>2349.250000</td>\n",
       "      <td>2351.669922</td>\n",
       "      <td>812600.0</td>\n",
       "      <td>2351.669922</td>\n",
       "    </tr>\n",
       "    <tr>\n",
       "      <th>5072</th>\n",
       "      <td>2020-08-10</td>\n",
       "      <td>2390.510010</td>\n",
       "      <td>2349.330078</td>\n",
       "      <td>2353.919922</td>\n",
       "      <td>2386.379883</td>\n",
       "      <td>784400.0</td>\n",
       "      <td>2386.379883</td>\n",
       "    </tr>\n",
       "    <tr>\n",
       "      <th>5073</th>\n",
       "      <td>2020-08-11</td>\n",
       "      <td>2429.360107</td>\n",
       "      <td>2396.110107</td>\n",
       "      <td>2396.110107</td>\n",
       "      <td>2418.669922</td>\n",
       "      <td>843400.0</td>\n",
       "      <td>2418.669922</td>\n",
       "    </tr>\n",
       "    <tr>\n",
       "      <th>5074</th>\n",
       "      <td>2020-08-12</td>\n",
       "      <td>2425.020020</td>\n",
       "      <td>2414.610107</td>\n",
       "      <td>2414.780029</td>\n",
       "      <td>2421.260010</td>\n",
       "      <td>86487.0</td>\n",
       "      <td>2421.260010</td>\n",
       "    </tr>\n",
       "  </tbody>\n",
       "</table>\n",
       "</div>"
      ],
      "text/plain": [
       "           Date         High          Low         Open        Close    Volume  \\\n",
       "5070 2020-08-06  2352.479980  2322.639893  2322.639893  2342.610107  797000.0   \n",
       "5071 2020-08-07  2362.239990  2333.620117  2349.250000  2351.669922  812600.0   \n",
       "5072 2020-08-10  2390.510010  2349.330078  2353.919922  2386.379883  784400.0   \n",
       "5073 2020-08-11  2429.360107  2396.110107  2396.110107  2418.669922  843400.0   \n",
       "5074 2020-08-12  2425.020020  2414.610107  2414.780029  2421.260010   86487.0   \n",
       "\n",
       "        Adj Close  \n",
       "5070  2342.610107  \n",
       "5071  2351.669922  \n",
       "5072  2386.379883  \n",
       "5073  2418.669922  \n",
       "5074  2421.260010  "
      ]
     },
     "execution_count": 12,
     "metadata": {},
     "output_type": "execute_result"
    }
   ],
   "source": [
    "DF.tail()"
   ]
  },
  {
   "cell_type": "code",
   "execution_count": 13,
   "metadata": {},
   "outputs": [
    {
     "data": {
      "text/plain": [
       "0       1059.040039\n",
       "1        986.309998\n",
       "2        960.789978\n",
       "3        948.650024\n",
       "4        987.239990\n",
       "           ...     \n",
       "4916    2203.709961\n",
       "4917    2190.080078\n",
       "4918    2197.929932\n",
       "4919    2204.209961\n",
       "4920    2197.669922\n",
       "Name: Close, Length: 4921, dtype: float64"
      ]
     },
     "execution_count": 13,
     "metadata": {},
     "output_type": "execute_result"
    }
   ],
   "source": []
  },
  {
   "cell_type": "code",
   "execution_count": 16,
   "metadata": {},
   "outputs": [
    {
     "data": {
      "text/html": [
       "<div>\n",
       "<style scoped>\n",
       "    .dataframe tbody tr th:only-of-type {\n",
       "        vertical-align: middle;\n",
       "    }\n",
       "\n",
       "    .dataframe tbody tr th {\n",
       "        vertical-align: top;\n",
       "    }\n",
       "\n",
       "    .dataframe thead th {\n",
       "        text-align: right;\n",
       "    }\n",
       "</style>\n",
       "<table border=\"1\" class=\"dataframe\">\n",
       "  <thead>\n",
       "    <tr style=\"text-align: right;\">\n",
       "      <th></th>\n",
       "      <th>Date</th>\n",
       "      <th>Close</th>\n",
       "    </tr>\n",
       "  </thead>\n",
       "  <tbody>\n",
       "    <tr>\n",
       "      <th>4916</th>\n",
       "      <td>2019-12-23</td>\n",
       "      <td>2203.709961</td>\n",
       "    </tr>\n",
       "    <tr>\n",
       "      <th>4917</th>\n",
       "      <td>2019-12-24</td>\n",
       "      <td>2190.080078</td>\n",
       "    </tr>\n",
       "    <tr>\n",
       "      <th>4918</th>\n",
       "      <td>2019-12-26</td>\n",
       "      <td>2197.929932</td>\n",
       "    </tr>\n",
       "    <tr>\n",
       "      <th>4919</th>\n",
       "      <td>2019-12-27</td>\n",
       "      <td>2204.209961</td>\n",
       "    </tr>\n",
       "    <tr>\n",
       "      <th>4920</th>\n",
       "      <td>2019-12-30</td>\n",
       "      <td>2197.669922</td>\n",
       "    </tr>\n",
       "  </tbody>\n",
       "</table>\n",
       "</div>"
      ],
      "text/plain": [
       "           Date        Close\n",
       "4916 2019-12-23  2203.709961\n",
       "4917 2019-12-24  2190.080078\n",
       "4918 2019-12-26  2197.929932\n",
       "4919 2019-12-27  2204.209961\n",
       "4920 2019-12-30  2197.669922"
      ]
     },
     "execution_count": 16,
     "metadata": {},
     "output_type": "execute_result"
    }
   ],
   "source": [
    "plotDF = DF.loc[DF['Date']<'2019-12-31', ['Date','Close']]\n",
    "plotDF.tail()"
   ]
  },
  {
   "cell_type": "code",
   "execution_count": 17,
   "metadata": {},
   "outputs": [],
   "source": [
    "plotDF.set_index('Date', inplace = True)"
   ]
  },
  {
   "cell_type": "markdown",
   "metadata": {},
   "source": [
    "인덱스값을 "
   ]
  },
  {
   "cell_type": "code",
   "execution_count": 18,
   "metadata": {},
   "outputs": [
    {
     "data": {
      "image/png": "[encoded data removed]",
      "text/plain": [
       "<Figure size 936x360 with 1 Axes>"
      ]
     },
     "metadata": {
      "needs_background": "light"
     },
     "output_type": "display_data"
    }
   ],
   "source": [
    "plt.plot(plotDF['Close'], color = (0/256,50/256,0/256))\n",
    "plt.show()"
   ]
  },
  {
   "cell_type": "code",
   "execution_count": null,
   "metadata": {},
   "outputs": [],
   "source": []
  },
  {
   "cell_type": "code",
   "execution_count": null,
   "metadata": {},
   "outputs": [],
   "source": []
  },
  {
   "cell_type": "code",
   "execution_count": null,
   "metadata": {},
   "outputs": [],
   "source": []
  },
  {
   "cell_type": "code",
   "execution_count": null,
   "metadata": {},
   "outputs": [],
   "source": []
  },
  {
   "cell_type": "code",
   "execution_count": null,
   "metadata": {},
   "outputs": [],
   "source": []
  },
  {
   "cell_type": "code",
   "execution_count": null,
   "metadata": {},
   "outputs": [],
   "source": []
  }
 ],
 "metadata": {
  "kernelspec": {
   "display_name": "Python 3",
   "language": "python",
   "name": "python3"
  },
  "language_info": {
   "codemirror_mode": {
    "name": "ipython",
    "version": 3
   },
   "file_extension": ".py",
   "mimetype": "text/x-python",
   "name": "python",
   "nbconvert_exporter": "python",
   "pygments_lexer": "ipython3",
   "version": "3.7.6"
  }
 },
 "nbformat": 4,
 "nbformat_minor": 2
}
