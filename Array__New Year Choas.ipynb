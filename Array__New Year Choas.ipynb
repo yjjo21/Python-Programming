{
 "cells": [
  {
   "cell_type": "markdown",
   "metadata": {},
   "source": [
    "# New Year Choas\n",
    "\n",
    "- 뇌물을 2번 초과해서 줄 경우, **Too chaotic** 출력"
   ]
  },
  {
   "cell_type": "code",
   "execution_count": 1,
   "metadata": {},
   "outputs": [],
   "source": [
    "import math\n",
    "import os\n",
    "import random\n",
    "import re\n",
    "import sys"
   ]
  },
  {
   "cell_type": "code",
   "execution_count": 2,
   "metadata": {},
   "outputs": [],
   "source": [
    "q = [2,1,5,3,4]"
   ]
  },
  {
   "cell_type": "code",
   "execution_count": 13,
   "metadata": {},
   "outputs": [
    {
     "name": "stdout",
     "output_type": "stream",
     "text": [
      "5 4\n",
      "dict_values([2, 1, 3, 4, 5])\n",
      "4 4\n",
      "3 3\n",
      "2 1\n",
      "dict_values([1, 2, 3, 4, 5])\n"
     ]
    },
    {
     "data": {
      "text/plain": [
       "3"
      ]
     },
     "execution_count": 13,
     "metadata": {},
     "output_type": "execute_result"
    }
   ],
   "source": [
    "def minimumBribes(q):\n",
    "    count = 0\n",
    "    d = dict(enumerate(q,1))\n",
    "    for i in range(len(d), 1, -1):\n",
    "        print(i, d[i])\n",
    "        if d[i] == i:\n",
    "            continue\n",
    "        if d[i-1] == i:\n",
    "            d[i-1], d[i] = d[i], d[i-1]\n",
    "            count +=1\n",
    "        elif d[i-2]==i:\n",
    "            d[i-2], d[i-1], d[i] = d[i-1], d[i], d[i-2]\n",
    "            count +=2\n",
    "        else:\n",
    "            return \"Too chaotic\"\n",
    "        print(d.values())\n",
    "    return count\n",
    "\n",
    "minimumBribes(q)"
   ]
  }
 ],
 "metadata": {
  "kernelspec": {
   "display_name": "Python 3",
   "language": "python",
   "name": "python3"
  },
  "language_info": {
   "codemirror_mode": {
    "name": "ipython",
    "version": 3
   },
   "file_extension": ".py",
   "mimetype": "text/x-python",
   "name": "python",
   "nbconvert_exporter": "python",
   "pygments_lexer": "ipython3",
   "version": "3.7.3"
  }
 },
 "nbformat": 4,
 "nbformat_minor": 2
}
